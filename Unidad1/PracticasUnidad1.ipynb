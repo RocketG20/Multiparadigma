{
  "nbformat": 4,
  "nbformat_minor": 0,
  "metadata": {
    "colab": {
      "provenance": []
    },
    "kernelspec": {
      "name": "python3",
      "display_name": "Python 3"
    },
    "language_info": {
      "name": "python"
    }
  },
  "cells": [
    {
      "cell_type": "code",
      "execution_count": null,
      "metadata": {
        "collapsed": true,
        "id": "qQOLr17EXPmS"
      },
      "outputs": [],
      "source": [
        "#Practica_1\n",
        "def calcular_producto(*args):\n",
        "  \"\"\"\n",
        "  Calcula el producto de un número variable de argumentos numéricos.\n",
        "\n",
        "  Args:\n",
        "    *args: Una tupla de números.\n",
        "\n",
        "  Returns:\n",
        "    El producto de todos los números en la tupla.\n",
        "    Devuelve 1 si no se proporciona ningún argumento.\n",
        "  \"\"\"\n",
        "  producto = 1\n",
        "  for numero in args:\n",
        "    producto *= numero\n",
        "  return producto\n",
        "\n",
        "# Ejemplos de uso\n",
        "print(calcular_producto(2, 3, 4))  # Salida: 24\n",
        "print(calcular_producto(5, 10))    # Salida: 50\n",
        "print(calcular_producto())         # Salida: 1\n",
        "print(calcular_producto(1.5, 2.5)) # Salida: 3.75"
      ]
    },
    {
      "cell_type": "code",
      "source": [
        "#Practica_2\n",
        "abecedario = ['a', 'b', 'c', 'd', 'e', 'f', 'g', 'h', 'i', 'j', 'k', 'l', 'm', 'n', 'ñ', 'o', 'p', 'q', 'r', 's', 't', 'u', 'v', 'w', 'x', 'y', 'z']\n",
        "\n",
        "# Eliminar letras en posiciones múltiplos de 3 (empezando desde 0)\n",
        "for i in range(len(abecedario) - 1, -1, -1):\n",
        "  if (i + 1) % 3 == 0:\n",
        "    abecedario.pop(i)\n",
        "\n",
        "# Mostrar la lista resultante\n",
        "abecedario"
      ],
      "metadata": {
        "id": "MtKA7WDxajOA"
      },
      "execution_count": null,
      "outputs": []
    },
    {
      "cell_type": "code",
      "source": [
        "#Practica_3\n",
        "nombre_completo = input(\"Ingresa tu nombre completo: \")\n",
        "nombre_invertido = \"\"\n",
        "for letra in reversed(nombre_completo):\n",
        "  nombre_invertido += letra\n",
        "nombre_invertido"
      ],
      "metadata": {
        "id": "BlLGSSWhdQgv"
      },
      "execution_count": null,
      "outputs": []
    },
    {
      "cell_type": "code",
      "source": [
        "#Practica_4\n",
        "def capturar_materias():\n",
        "  \"\"\"Captura las materias y créditos del semestre del usuario.\"\"\"\n",
        "  materias = {}\n",
        "  semestre = int(input(\"Ingresa el semestre (inferior a 8vo): \"))\n",
        "  if semestre >= 8:\n",
        "    print(\"El semestre debe ser inferior a 8vo.\")\n",
        "    return None, 0  # Regresa None para indicar un error\n",
        "  while True:\n",
        "    asignatura = input(\"Ingresa el nombre de la asignatura (o escribe 'fin' para terminar): \")\n",
        "    if asignatura.lower() == 'fin':\n",
        "      break\n",
        "    try:\n",
        "      creditos = int(input(f\"Ingresa los créditos de {asignatura}: \"))\n",
        "      materias[asignatura] = creditos\n",
        "    except ValueError:\n",
        "      print(\"Número de créditos inválido. Intenta de nuevo.\")\n",
        "  total_creditos = sum(materias.values())\n",
        "  return materias, total_creditos\n",
        "# Ejemplo de uso\n",
        "materias, total_creditos = capturar_materias()\n",
        "if materias:\n",
        "  print(\"\\nMaterias y créditos del semestre:\")\n",
        "  for asignatura, creditos in materias.items():\n",
        "      print(f'\"{asignatura}\" tiene \"{creditos}\" créditos.')\n",
        "  print(f\"\\nTotal de créditos del semestre: {total_creditos}\")"
      ],
      "metadata": {
        "id": "W_JDu_vleYGn"
      },
      "execution_count": null,
      "outputs": []
    },
    {
      "cell_type": "code",
      "source": [
        "#Practica_5\n",
        "def imprimir_pares_llave_valor(**kwargs):\n",
        "  \"\"\"\n",
        "  Recibe n parámetros de llave-valor e imprime la información en formato \"{llave}\": \"{Valor}\".\n",
        "  Args:\n",
        "    **kwargs: Un diccionario de argumentos de palabra clave.\n",
        "  \"\"\"\n",
        "  for llave, valor in kwargs.items():\n",
        "    print(f'\"{llave}\": \"{valor}\"')\n",
        "# Ejemplo de uso\n",
        "imprimir_pares_llave_valor(nombre=\"Juan\", apellido=\"Pérez\", edad=30, ciudad=\"Madrid\")"
      ],
      "metadata": {
        "id": "N2nRxTidgnT2"
      },
      "execution_count": null,
      "outputs": []
    },
    {
      "cell_type": "code",
      "source": [
        "#Practica_6\n",
        "numeros = [\"cero\", \"uno\", \"dos\", \"tres\", \"cuatro\", \"cinco\", \"seis\", \"siete\", \"ocho\", \"nueve\", \"diez\", \"once\", \"doce\", \"trece\", \"catorce\", \"quince\", \"dieciséis\", \"diecisiete\", \"dieciocho\", \"diecinueve\", \"veinte\"]\n",
        "numero = int(input(\"Introduce un numero entre 0 y 20: \"))\n",
        "numeros[numero]"
      ],
      "metadata": {
        "id": "8Mf9VPfth3rg"
      },
      "execution_count": null,
      "outputs": []
    },
    {
      "cell_type": "code",
      "source": [
        "#Practica_7\n",
        "from datetime import datetime\n",
        "\n",
        "def imprimir_fecha():\n",
        "  \"\"\"Muestra un menú y la fecha en el formato seleccionado.\"\"\"\n",
        "\n",
        "  while True:\n",
        "    print(\"\\nMenú de opciones:\")\n",
        "    print(\"1.- Imprimir YYYY/MM/DD\")\n",
        "    print(\"2.- Imprimir MM/DD/YYYY\")\n",
        "    opcion = input(\"Selecciona una opción (1 o 2): \")\n",
        "\n",
        "    if opcion == '1':\n",
        "      fecha_actual = datetime.now().strftime(\"%Y/%m/%d\")\n",
        "      print(\"Fecha actual (YYYY/MM/DD):\", fecha_actual)\n",
        "      break\n",
        "    elif opcion == '2':\n",
        "      fecha_actual = datetime.now().strftime(\"%m/%d/%Y\")\n",
        "      print(\"Fecha actual (MM/DD/YYYY):\", fecha_actual)\n",
        "      break\n",
        "    else:\n",
        "      print(\"Opción no válida. Intenta de nuevo.\")\n",
        "\n",
        "imprimir_fecha()"
      ],
      "metadata": {
        "id": "qZRbpGAEigX5"
      },
      "execution_count": null,
      "outputs": []
    }
  ]
}
